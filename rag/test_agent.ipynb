{
 "cells": [
  {
   "cell_type": "code",
   "execution_count": 20,
   "metadata": {},
   "outputs": [
    {
     "name": "stdout",
     "output_type": "stream",
     "text": [
      "vehicles/registration\n"
     ]
    }
   ],
   "source": [
    "from pydantic import BaseModel\n",
    "from openai import OpenAI\n",
    "import os\n",
    "from dotenv import load_dotenv\n",
    "from typing import List, Literal\n",
    "\n",
    "load_dotenv(dotenv_path=\"c:/Users/benja/startup_projects/civgen/.env\")\n",
    "client = OpenAI(\n",
    "  api_key=os.getenv(\"OPENAI_API_KEY\")\n",
    ")\n",
    "\n",
    "class QuestionCategory(BaseModel): \n",
    "    subject: List[Literal[\"vehicles/registration\"]]  # Allow multiple values\n",
    "\n",
    "class VehicleQuestionTopics(BaseModel): \n",
    "    subjects: List[Literal[  # Allow multiple topics\n",
    "        \"alternative-vehicles\",\n",
    "        \"antique\",\n",
    "        \"color-codes\",\n",
    "        \"denials\",\n",
    "        \"emissions\",\n",
    "        \"enotification-info\",\n",
    "        \"enotification-policy\",\n",
    "        \"exemp-disc-chart\",\n",
    "        \"farm\",\n",
    "        \"first-reg\",\n",
    "        \"lvrp\",\n",
    "        \"mail-renew\",\n",
    "        \"moped\",\n",
    "        \"sample-card\",\n",
    "        \"state-owned-vehicles\",\n",
    "        \"stop-register\",\n",
    "        \"surplus\",\n",
    "        \"temp-permit\",\n",
    "        \"title-mail-reg-only\",\n",
    "        \"tow-truck-reg\",\n",
    "        \"trailer\"\n",
    "    ]]\n",
    "\n",
    "user_question = \"How do I register my vehicle in Virginia if I already have it titled?\"\n",
    "\n",
    "completion = client.beta.chat.completions.parse(\n",
    "    model=\"gpt-4o-2024-08-06\",\n",
    "    messages=[\n",
    "        {\"role\": \"system\", \"content\": \"You are a helpful assistant at the Virginia Department of Motor Vehicles (DMV). \"\n",
    "            \"You are given a question about the DMV website. You need to choose the most relevant category to look for information in given the user's question.\"},\n",
    "        {\"role\": \"user\", \"content\": user_question}\n",
    "    ],\n",
    "    response_format=QuestionCategory,\n",
    ")\n",
    "\n",
    "category = completion.choices[0].message.parsed.subject[0]\n",
    "print(category)\n",
    "\n",
    "\n",
    "\n"
   ]
  },
  {
   "cell_type": "code",
   "execution_count": 16,
   "metadata": {},
   "outputs": [
    {
     "name": "stdout",
     "output_type": "stream",
     "text": [
      "subjects=['first-reg']\n"
     ]
    }
   ],
   "source": [
    "completion = client.beta.chat.completions.parse(\n",
    "    model=\"gpt-4o-2024-08-06\",\n",
    "    messages=[\n",
    "        {\"role\": \"system\", \"content\": \"You are a helpful assistant at the Virginia Department of Motor Vehicles (DMV). \"\n",
    "            \"You are given a question about the DMV website. You need to choose the ctegories to look for information in given the user's question. Select all that apply.\"},\n",
    "        {\"role\": \"user\", \"content\": user_question}\n",
    "    ],\n",
    "    response_format=VehicleQuestionTopics,\n",
    ")\n",
    "\n",
    "topics = completion.choices[0].message.parsed\n",
    "print(topics)\n",
    "\n"
   ]
  },
  {
   "cell_type": "code",
   "execution_count": 21,
   "metadata": {},
   "outputs": [
    {
     "name": "stdout",
     "output_type": "stream",
     "text": [
      "You may register your vehicle at any DMV\n",
      "customer service center\n",
      ". DMV will issue you two license plates with decals showing the expiration date and a registration card.\n",
      "Please follow the process below:\n",
      "Place the decals on the plates.\n",
      "Place the plates on the front and rear of your vehicle.\n",
      "Keep the registration card in your vehicle at all times.\n",
      "To purchase new Virginia license plates, complete form\n",
      "VSA-14\n",
      ".\n",
      "You may choose to register your vehicle for one or two years. Two-year registration costs twice the annual fee and provides a convenient way for you to register with DMV. The two-year registration option is not available for vehicles with a gross vehicle weight of 55,000 lbs. or more, or vehicles registered under the International Registration Plan.\n"
     ]
    }
   ],
   "source": [
    "import json\n",
    "from pathlib import Path\n",
    "\n",
    "# Base directory relative to your working file (test_agent.ipynb)\n",
    "base_dir = Path(\"dmv_site_data\")  \n",
    "file_path = base_dir / category / f\"{topic}.json\"\n",
    "\n",
    "if file_path.exists():\n",
    "    with file_path.open(encoding=\"utf-8\") as f:  # Ensure correct encoding\n",
    "        data = json.load(f)\n",
    "    \n",
    "    # Print the \"text_content\" field if it exists\n",
    "    if \"text_content\" in data:\n",
    "        print(data[\"text_content\"])\n",
    "    else:\n",
    "        print(f\"'text_content' field not found in {file_path}\")\n",
    "else:\n",
    "    print(f\"File not found: {file_path.resolve()}\")  # Print absolute path for debugging\n"
   ]
  }
 ],
 "metadata": {
  "kernelspec": {
   "display_name": "rag_env",
   "language": "python",
   "name": "python3"
  },
  "language_info": {
   "codemirror_mode": {
    "name": "ipython",
    "version": 3
   },
   "file_extension": ".py",
   "mimetype": "text/x-python",
   "name": "python",
   "nbconvert_exporter": "python",
   "pygments_lexer": "ipython3",
   "version": "3.12.4"
  }
 },
 "nbformat": 4,
 "nbformat_minor": 2
}
