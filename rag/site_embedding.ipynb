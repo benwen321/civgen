{
 "cells": [
  {
   "cell_type": "code",
   "execution_count": 65,
   "metadata": {},
   "outputs": [],
   "source": [
    "data_path = r\"dmv_site_data_v3\\vehicles\\registration\"\n",
    "def convert_backslashes(input_string):\n",
    "    return input_string.replace(\"\\\\\", \"/\")\n",
    "data_path = convert_backslashes(data_path)"
   ]
  },
  {
   "cell_type": "code",
   "execution_count": 66,
   "metadata": {},
   "outputs": [
    {
     "name": "stdout",
     "output_type": "stream",
     "text": [
      "Connection to Redis successful!\n",
      "Redis PING response: True\n"
     ]
    }
   ],
   "source": [
    "import redis\n",
    "\n",
    "# Basic connection to Redis Stack running locally\n",
    "client = redis.Redis(host='127.0.0.1', port=6379, decode_responses=True)\n",
    "\n",
    "# Test the connection\n",
    "try:\n",
    "    response = client.ping()\n",
    "    print(\"Connection to Redis successful!\")\n",
    "    print(\"Redis PING response:\", response)\n",
    "except redis.exceptions.ConnectionError as e:\n",
    "    print(f\"Connection to Redis failed: {e}\")"
   ]
  },
  {
   "cell_type": "code",
   "execution_count": 67,
   "metadata": {},
   "outputs": [
    {
     "name": "stdout",
     "output_type": "stream",
     "text": [
      "Inserted 21 documents successfully!\n"
     ]
    },
    {
     "data": {
      "text/plain": [
       "(21, [])"
      ]
     },
     "execution_count": 67,
     "metadata": {},
     "output_type": "execute_result"
    }
   ],
   "source": [
    "import json \n",
    "from pathlib import Path\n",
    "def load_jsons_to_redis(directory_path, client):\n",
    "    \"\"\"\n",
    "    Load all JSON files from a directory into Redis\n",
    "    \n",
    "    Args:\n",
    "        directory_path (str): Path to directory containing JSON files\n",
    "        client: Redis client instance\n",
    "    \n",
    "    Returns:\n",
    "        tuple: (number of successful insertions, list of failed files)\n",
    "    \"\"\"\n",
    "    # Convert to Path object for better path handling\n",
    "    json_dir = Path(directory_path)\n",
    "    \n",
    "    # Ensure directory exists\n",
    "    if not json_dir.is_dir():\n",
    "        raise ValueError(f\"Directory not found: {directory_path}\")\n",
    "    \n",
    "    pipeline = client.pipeline()\n",
    "    file_count = 0\n",
    "    failed_files = []\n",
    "    \n",
    "    # Process each JSON file in directory\n",
    "    for json_file in json_dir.glob('*.json'):\n",
    "        try:\n",
    "            with open(json_file, 'r') as file:\n",
    "                sections = json.load(file)\n",
    "                \n",
    "                # Handle both single objects and arrays of objects\n",
    "                if isinstance(sections, dict):\n",
    "                    sections = [sections]\n",
    "                \n",
    "                # Add each section to pipeline\n",
    "                for i, section in enumerate(sections, start=file_count + 1):\n",
    "                    redis_key = f\"{data_path}:{i:05}\"\n",
    "                    pipeline.json().set(redis_key, \"$\", section)\n",
    "                \n",
    "                file_count += len(sections)\n",
    "                \n",
    "        except json.JSONDecodeError as e:\n",
    "            print(f\"Invalid JSON in file {json_file.name}: {e}\")\n",
    "            failed_files.append((json_file.name, \"Invalid JSON\"))\n",
    "        except Exception as e:\n",
    "            print(f\"Error processing file {json_file.name}: {e}\")\n",
    "            failed_files.append((json_file.name, str(e)))\n",
    "    \n",
    "    # Execute pipeline if there are commands\n",
    "    if file_count > 0:\n",
    "        try:\n",
    "            res = pipeline.execute()\n",
    "            print(f\"Inserted {len(res)} documents successfully!\")\n",
    "        except Exception as e:\n",
    "            print(f\"Redis pipeline execution error: {e}\")\n",
    "            return 0, failed_files\n",
    "    else:\n",
    "        print(\"No JSON files found in directory\")\n",
    "        return 0, failed_files\n",
    "    \n",
    "    return file_count, failed_files\n",
    "\n",
    "load_jsons_to_redis(data_path, client)"
   ]
  },
  {
   "cell_type": "code",
   "execution_count": 68,
   "metadata": {},
   "outputs": [
    {
     "name": "stdout",
     "output_type": "stream",
     "text": [
      "Generated 21 embeddings with dimension 3072\n"
     ]
    }
   ],
   "source": [
    "import numpy as np\n",
    "from openai import OpenAI\n",
    "import os\n",
    "from dotenv import load_dotenv\n",
    "\n",
    "\n",
    "load_dotenv(dotenv_path=\"c:/Users/benja/startup_projects/civgen/.env\")\n",
    "openai_client = OpenAI(\n",
    "  api_key=os.getenv(\"OPENAI_API_KEY\")\n",
    ")\n",
    "\n",
    "# Retrieve keys from Redis\n",
    "keys = sorted(client.keys(f\"{data_path}:*\"))\n",
    "content = client.json().mget(keys, \"$.text_content\")\n",
    "\n",
    "# Flatten list and filter invalid entries\n",
    "\n",
    "content = [item for sublist in content for item in sublist]  # Flatten\n",
    "content = [text for text in content if isinstance(text, str) and text.strip()]  # Filter non-strings and empty strings\n",
    "\n",
    "if not content:\n",
    "    raise ValueError(\"No valid content available for generating embeddings.\")\n",
    "\n",
    "# Call OpenAI's embedding API\n",
    "response = openai_client.embeddings.create(\n",
    "    input=content,\n",
    "    model=\"text-embedding-3-large\"\n",
    ")\n",
    "\n",
    "# Extract embeddings using correct attribute access\n",
    "embeddings = [item.embedding for item in response.data]\n",
    "\n",
    "# Convert embeddings to float32 and list format\n",
    "embeddings_array = np.array(embeddings, dtype=np.float32).tolist()\n",
    "\n",
    "VECTOR_DIMENSION = len(embeddings_array[0]) if embeddings_array else 0\n",
    "print(f\"Generated {len(embeddings_array)} embeddings with dimension {VECTOR_DIMENSION}\")\n"
   ]
  },
  {
   "cell_type": "code",
   "execution_count": 69,
   "metadata": {},
   "outputs": [
    {
     "data": {
      "text/plain": [
       "[True,\n",
       " True,\n",
       " True,\n",
       " True,\n",
       " True,\n",
       " True,\n",
       " True,\n",
       " True,\n",
       " True,\n",
       " True,\n",
       " True,\n",
       " True,\n",
       " True,\n",
       " True,\n",
       " True,\n",
       " True,\n",
       " True,\n",
       " True,\n",
       " True,\n",
       " True,\n",
       " True]"
      ]
     },
     "execution_count": 69,
     "metadata": {},
     "output_type": "execute_result"
    }
   ],
   "source": [
    "pipeline = client.pipeline()\n",
    "for key, embedding in zip(keys, embeddings):\n",
    "  #note that its named section embeddings and not content embeddings\n",
    "  pipeline.json().set(key, \"$.section_embeddings\", embedding)\n",
    "pipeline.execute()\n"
   ]
  },
  {
   "cell_type": "code",
   "execution_count": 70,
   "metadata": {},
   "outputs": [],
   "source": [
    "import redis\n",
    "from redis.commands.search.field import (\n",
    "    TextField,\n",
    "    VectorField,\n",
    ")\n",
    "from redis.commands.search.indexDefinition import IndexDefinition, IndexType\n",
    "\n",
    "# Define the schema fields based on your JSON structure\n",
    "schema = (\n",
    "    TextField(\"$.url\", no_stem=True, as_name=\"url\"),\n",
    "    TextField(\"$.title\", no_stem=True, as_name=\"title\"),\n",
    "    TextField(\"$.text_content\", no_stem=True, as_name=\"text_content\"),\n",
    "    TextField(\"$.attachments.*\", no_stem=True, as_name=\"attachment_paths\"),\n",
    "    VectorField(\n",
    "        \"$.section_embeddings\",  # You'll need to add this to your JSON\n",
    "        \"FLAT\",\n",
    "        {\n",
    "            \"TYPE\": \"FLOAT32\",\n",
    "            \"DIM\": VECTOR_DIMENSION,  # Replace with your actual dimension\n",
    "            \"DISTANCE_METRIC\": \"COSINE\",\n",
    "        },\n",
    "        as_name=\"vector\"\n",
    "    )\n",
    ")\n",
    "\n",
    "# Define the index\n",
    "definition = IndexDefinition(prefix=[f\"{data_path}:\"], index_type=IndexType.JSON)\n",
    "\n",
    "# Create the index\n",
    "res = client.ft(f\"idx:{data_path}_vss\").create_index(fields=schema, definition=definition)"
   ]
  },
  {
   "cell_type": "code",
   "execution_count": 71,
   "metadata": {},
   "outputs": [
    {
     "name": "stdout",
     "output_type": "stream",
     "text": [
      "\n",
      "    Score: 0.569419503212\n",
      "    URL: https://www.dmv.virginia.gov/vehicles/registration/moped\n",
      "    Title: All About Mopeds\n",
      "    Content: moped, Virginia, DMV, rules of the road, age 16, government-issued photo ID, helmet, face shield, safety glasses, goggles, interstate, license suspended, revoked, DUI, high-occupancy toll lanes, toll violations, title, register, ownership documents, title fee, annual registration fee, Moped Certification, Sales and Use Tax, SUT, safety tips, training course\n",
      "    Attachments: attachments\\vsa31.pdf\n",
      "    \n",
      "\n",
      "    Score: 0.61673438549\n",
      "    URL: https://www.dmv.virginia.gov/vehicles/registration/alternative-vehicles\n",
      "    Title: Electric Vehicles\n",
      "    Content: Electric vehicles, Virginia DMV, registration, highway use fee, annual fee, renewal, clean special fuel plates, titling, converted electric vehicle, registration fees, online renewal, highway use, special fuel vehicles, plate options, original registration, electric motor vehicle, clean energy, DMV policies, fee updates, alternative vehicles\n",
      "    Attachments: attachments\\dmv201.pdf\n",
      "    \n",
      "\n",
      "    Score: 0.631186544895\n",
      "    URL: https://www.dmv.virginia.gov/vehicles/registration/trailer\n",
      "    Title: Trailer Registration\n",
      "    Content: trailer, Virginia, registration, vehicle, motor vehicle, tow dollies, converter gear, 46.2-100, annually, bi-annually, permanently, trailer registration fee, gross weight, insurance coverage, Permanent license plates, one-time fee, registration card, rental trailer, Permanent, 4000 pounds, full size, small, motorcycle size, orange decal, R, Application for Registration, VSA-14, personalized messages, transferable, refundable, 46.2-692\n",
      "    Attachments: attachments\\dmv201.pdf\n",
      "    \n",
      "\n",
      "    Score: 0.635901391506\n",
      "    URL: https://www.dmv.virginia.gov/vehicles/registration/surplus\n",
      "    Title: Military Surplus Motor Vehicles\n",
      "    Content: military surplus motor vehicle, MSMV, United States Armed Forces, off-road, civilians, license plates, VSA 10M, $100 fee, driving restrictions, Virginia safety inspection, Virginia Code 46.2-730.1, off-road events, club activities, parades, 125 miles, pleasure driving, 250 miles, Class 4 misdemeanor, registration revoked, five year period, vehicle registration\n",
      "    Attachments: attachments\\vsa10m.pdf\n",
      "    \n",
      "\n",
      "    Score: 0.638181746006\n",
      "    URL: https://www.dmv.virginia.gov/vehicles/registration/farm\n",
      "    Title: Farm Vehicles\n",
      "    Content: Virginia, farm vehicles, farmers, registration options, standard license plate, F-tag, registered farm use, permanent farm use placard, unregistered farm use, panel trucks, pickup trucks, sport utility vehicles, slow-moving farm vehicle, slow moving vehicle sign, farm tractors, farm equipment, public highway, Va. Code 46.2-1081, dyed diesel fuel, undyed diesel fuel, DMV\n",
      "    Attachments: attachments\\dmv201.pdf\n",
      "    \n"
     ]
    }
   ],
   "source": [
    "import numpy as np\n",
    "from redis.commands.search.query import Query\n",
    "\n",
    "# 1. Encode query (keep this the same)\n",
    "query_text = \"How do I register a low powered bike?\"\n",
    "query_vector = np.array(\n",
    "    openai_client.embeddings.create(\n",
    "        input=query_text,\n",
    "        model=\"text-embedding-3-large\"\n",
    "    ).data[0].embedding, \n",
    "    dtype=np.float32\n",
    ")\n",
    "\n",
    "# 2. Update query to match schema fields\n",
    "query = (\n",
    "    Query('(*)=>[KNN 5 @vector $query_vector AS vector_score]')\n",
    "    .sort_by('vector_score')\n",
    "    .return_fields(\n",
    "        'vector_score', \n",
    "        'url',         # From TextField(\"$.url\")\n",
    "        'title',       # From TextField(\"$.title\")\n",
    "        'text_content',# From TextField(\"$.text_content\")\n",
    "        'attachment_paths'  # From TextField(\"$.attachments.*\")\n",
    "    )\n",
    "    .dialect(2)\n",
    ")\n",
    "\n",
    "# 3. Execute search (keep the same)\n",
    "result = client.ft(f'idx:{data_path}_vss').search(\n",
    "    query,\n",
    "    {'query_vector': query_vector.tobytes()}\n",
    ")\n",
    "\n",
    "# 4. Process results with schema-aligned fields\n",
    "for doc in result.docs:\n",
    "    print(f\"\"\"\n",
    "    Score: {doc.vector_score}\n",
    "    URL: {doc.url}\n",
    "    Title: {doc.title}\n",
    "    Content: {doc.text_content}\n",
    "    Attachments: {doc.attachment_paths}\n",
    "    \"\"\")\n"
   ]
  }
 ],
 "metadata": {
  "kernelspec": {
   "display_name": "rag_env",
   "language": "python",
   "name": "python3"
  },
  "language_info": {
   "codemirror_mode": {
    "name": "ipython",
    "version": 3
   },
   "file_extension": ".py",
   "mimetype": "text/x-python",
   "name": "python",
   "nbconvert_exporter": "python",
   "pygments_lexer": "ipython3",
   "version": "3.12.4"
  }
 },
 "nbformat": 4,
 "nbformat_minor": 2
}
